{
 "cells": [
  {
   "cell_type": "code",
   "execution_count": null,
   "metadata": {},
   "outputs": [],
   "source": [
    "from pinecone import Pinecone,ServerlessSpec\n",
    "import os\n",
    "from dotenv import load_dotenv\n",
    "import time\n",
    "load_dotenv()"
   ]
  },
  {
   "cell_type": "code",
   "execution_count": null,
   "metadata": {},
   "outputs": [],
   "source": [
    "gemini_api= os.getenv(\"GEMINI_API_KEY\")\n",
    "pinecone_api = os.getenv(\"PINECONE_API_KEY\")"
   ]
  },
  {
   "cell_type": "code",
   "execution_count": null,
   "metadata": {},
   "outputs": [],
   "source": [
    "pc = Pinecone(api_key=pinecone_api)\n",
    "index_name = \"new\"\n",
    "\n",
    "# Create index if not exists\n",
    "if not pc.has_index(index_name):\n",
    "    pc.create_index_for_model(\n",
    "        name=index_name,\n",
    "        cloud=\"aws\",\n",
    "        region=\"us-east-1\",\n",
    "        embed={\n",
    "            \"model\":\"llama-text-embed-v2\",\n",
    "            \"field_map\":{\"text\": \"chunk_text\"}\n",
    "        }\n",
    "    )\n",
    "    print(\"Created new index\")\n",
    "else:\n",
    "    print(\"Index aldready esists\")\n",
    "index = pc.Index(index_name)"
   ]
  },
  {
   "cell_type": "code",
   "execution_count": null,
   "metadata": {},
   "outputs": [],
   "source": [
    "index"
   ]
  },
  {
   "cell_type": "code",
   "execution_count": null,
   "metadata": {},
   "outputs": [],
   "source": [
    "records = [{\"id\":\"1\" , \"chunk_text\" : \"A paper which summarized most peft techniques. Lora Qlora techniqies are one of the best peft techniques.\"}]"
   ]
  },
  {
   "cell_type": "code",
   "execution_count": null,
   "metadata": {},
   "outputs": [],
   "source": [
    "dense_index = pc.Index(index_name)"
   ]
  },
  {
   "cell_type": "code",
   "execution_count": null,
   "metadata": {},
   "outputs": [],
   "source": [
    "dense_index.upsert_records(\"example-namespace\", records)"
   ]
  },
  {
   "cell_type": "code",
   "execution_count": null,
   "metadata": {},
   "outputs": [],
   "source": [
    "stats = dense_index.describe_index_stats()\n",
    "stats"
   ]
  },
  {
   "cell_type": "code",
   "execution_count": null,
   "metadata": {},
   "outputs": [],
   "source": [
    "query = \"best peft methods\""
   ]
  },
  {
   "cell_type": "code",
   "execution_count": null,
   "metadata": {},
   "outputs": [],
   "source": [
    "# Search the dense index and rerank results\n",
    "reranked_results = dense_index.search(\n",
    "    namespace=\"example-namespace\",\n",
    "    query={\n",
    "        \"top_k\": 10,\n",
    "        \"inputs\": {\n",
    "            'text': query\n",
    "        }\n",
    "    },\n",
    "    rerank={\n",
    "        \"model\": \"bge-reranker-v2-m3\",\n",
    "        \"top_n\": 10,\n",
    "        \"rank_fields\": [\"chunk_text\"]\n",
    "    }   \n",
    ")\n",
    "\n",
    "# Print the reranked results\n",
    "for hit in reranked_results['result']['hits']:\n",
    "    print(f\"id: {hit['_id']}, score: {round(hit['_score'], 2)}, text: {hit['fields']['chunk_text']}\")"
   ]
  },
  {
   "cell_type": "code",
   "execution_count": null,
   "metadata": {},
   "outputs": [],
   "source": [
    "reranked_results['result']['hits']"
   ]
  },
  {
   "cell_type": "code",
   "execution_count": null,
   "metadata": {},
   "outputs": [],
   "source": [
    "output = {}\n",
    "for hit in reranked_results['result']['hits']:\n",
    "  output[\"id\"] = hit[\"_id\"]\n",
    "  output[\"score\"] = round(hit['_score'], 2)\n",
    "  output[\"text\"] = hit['fields']['chunk_text']\n",
    "  print(f\"id: {hit['_id']}, score: {round(hit['_score'], 2)}, text: {hit['fields']['chunk_text']}\")"
   ]
  },
  {
   "cell_type": "code",
   "execution_count": null,
   "metadata": {},
   "outputs": [],
   "source": [
    "output"
   ]
  },
  {
   "cell_type": "code",
   "execution_count": null,
   "metadata": {},
   "outputs": [],
   "source": [
    "import json\n",
    "ans = json.dumps(output)"
   ]
  },
  {
   "cell_type": "code",
   "execution_count": null,
   "metadata": {},
   "outputs": [],
   "source": [
    "pc.delete_index(\"new\")"
   ]
  },
  {
   "cell_type": "code",
   "execution_count": null,
   "metadata": {},
   "outputs": [],
   "source": [
    "# from pinecone import Pinecone, ServerlessSpec\n",
    "# import json\n",
    "# from typing import Literal\n",
    "\n",
    "# class VectorDatabase:\n",
    "#   def __init__(self, pinecone_api_key: str, index_name: str):\n",
    "#     self.pc = Pinecone(api_key=pinecone_api_key)\n",
    "#     self.index_name = index_name\n",
    "#     self.index = self.setup()\n",
    "    \n",
    "#   def setup(self):\n",
    "#     if not self.pc.has_index(self.index_name):\n",
    "#       self.pc.create_index_for_model(\n",
    "#           name=index_name,\n",
    "#           cloud=\"aws\",\n",
    "#           region=\"us-east-1\",\n",
    "#           embed={\n",
    "#               \"model\":\"llama-text-embed-v2\",\n",
    "#               \"field_map\":{\"text\": \"chunk_text\"}\n",
    "#           }\n",
    "#       )\n",
    "#     return self.pc.Index(self.index_name)\n",
    "  \n",
    "#   def insert(self, id: str, summary: str, title: str, namespace: Literal[\"paper\",\"dataset\",\"algo\"]):\n",
    "#     records = [{\n",
    "#       \"id\": id,\n",
    "#       \"chunk_text\": summary,\n",
    "#       \"metadata\": {\"title\": title}\n",
    "#     }]\n",
    "#     self.index.upsert_records(namespace, records)\n",
    "    \n",
    "#   def retreive(self , k:int , query: str, namespace: Literal[\"paper\",\"dataset\",\"algo\"]):\n",
    "#     reranked_results = self.index.search(\n",
    "#       namespace=namespace,\n",
    "#       query={\n",
    "#         \"top_k\": k,\n",
    "#         \"inputs\": {\"text\": query}\n",
    "#       },\n",
    "#       rerank={\n",
    "#         \"model\": \"bge-reranker-v2-m3\",\n",
    "#         \"top_n\": k,\n",
    "#         \"rank_fields\": [\"chunk_text\"]\n",
    "#       }   \n",
    "#     )\n",
    "#     output = []\n",
    "#     for hit in reranked_results['result']['hits']:\n",
    "#       output.append({\n",
    "#         \"id\": hit[\"_id\"],\n",
    "#         \"score\": round(hit['_score'], 2),\n",
    "#         \"text\": hit['fields']['chunk_text']\n",
    "#       })\n",
    "#     return json.dumps(output, indent=2)\n"
   ]
  },
  {
   "cell_type": "code",
   "execution_count": 1,
   "metadata": {},
   "outputs": [],
   "source": [
    "from pinecone import Pinecone, ServerlessSpec\n",
    "from typing import Literal\n",
    "import json\n",
    "import time\n",
    "class VectorDatabase:\n",
    "  \"\"\"\n",
    "  A class to interact with a Pinecone vector database, specifically designed\n",
    "  for serverless indexes with automatic embedding generation.\n",
    "  \"\"\"\n",
    "  def __init__(self, pinecone_api_key: str, index_name: str):\n",
    "    \"\"\"\n",
    "    Initializes the Pinecone client and sets up the index.\n",
    "    \n",
    "    Args:\n",
    "      pinecone_api_key: Your API key for Pinecone.\n",
    "      index_name: The name of the index to use or create.\n",
    "    \"\"\"\n",
    "    self.pc = Pinecone(api_key=pinecone_api_key)\n",
    "    self.index_name = index_name\n",
    "    self.index = self._setup()\n",
    "\n",
    "  def _setup(self):\n",
    "    if not self.pc.has_index(self.index_name):\n",
    "      self.pc.create_index_for_model(\n",
    "          name=self.index_name,\n",
    "          cloud=\"aws\",\n",
    "          region=\"us-east-1\",\n",
    "          embed={\n",
    "              \"model\":\"llama-text-embed-v2\",\n",
    "              \"field_map\":{\"text\": \"chunk_text\"}\n",
    "          }\n",
    "      )\n",
    "      print(\"Index is created sucessfully\")\n",
    "    else:\n",
    "      print(\"Index was aldready present\")\n",
    "    idx = self.pc.Index(self.index_name)\n",
    "    time.sleep(10)\n",
    "    return idx\n",
    "\n",
    "  def insert(self, id: str, summary: str, title: str, namespace: Literal[\"paper\", \"dataset\", \"algo\"]):\n",
    "    \"\"\"\n",
    "    Inserts a record into the index. The text is embedded automatically by Pinecone.\n",
    "    \n",
    "    Args:\n",
    "      id: The unique identifier for the record.\n",
    "      summary: The text content to be embedded and stored.\n",
    "      title: The title of the document.\n",
    "      namespace: The namespace to insert the record into.\n",
    "    \"\"\"\n",
    "    records = [{\n",
    "      \"id\": id,\n",
    "      \"chunk_text\": summary,\n",
    "      \"title\": title\n",
    "    }]\n",
    "    temp = self.index.describe_index_stats()\n",
    "    self.index.upsert_records(namespace,records)\n",
    "    print(f\"Successfully inserted record with id: {id} into namespace: {namespace}\")\n",
    "\n",
    "  def retrieve(self , k:int , query: str, namespace: Literal[\"paper\",\"dataset\",\"algo\"]):\n",
    "    reranked_results = self.index.search(\n",
    "      namespace=namespace,\n",
    "      query={\n",
    "        \"top_k\": k,\n",
    "        \"inputs\": {\"text\": query}\n",
    "      },\n",
    "      rerank={\n",
    "        \"model\": \"bge-reranker-v2-m3\",\n",
    "        \"top_n\": k,\n",
    "        \"rank_fields\": [\"chunk_text\"]\n",
    "      }   \n",
    "    )\n",
    "    output = []\n",
    "    for hit in reranked_results['result']['hits']:\n",
    "      output.append({\n",
    "        \"id\": hit[\"_id\"],\n",
    "        \"score\": round(hit['_score'], 2),\n",
    "        \"text\": hit['fields']['chunk_text']\n",
    "      })\n",
    "    return json.dumps(output, indent=2)\n",
    "\n",
    "  def clear_all(self):\n",
    "    \"\"\"\n",
    "    Deletes the entire index from your Pinecone project.\n",
    "    \"\"\"\n",
    "    print(f\"Deleting index '{self.index_name}' entirely...\")\n",
    "    self.pc.delete_index(self.index_name)\n",
    "    print(\"Index deleted successfully.\")"
   ]
  },
  {
   "cell_type": "code",
   "execution_count": 2,
   "metadata": {},
   "outputs": [
    {
     "name": "stdout",
     "output_type": "stream",
     "text": [
      "Index is created sucessfully\n"
     ]
    }
   ],
   "source": [
    "import os\n",
    "from dotenv import load_dotenv\n",
    "# load env\n",
    "load_dotenv()\n",
    "pinecone_api_key = os.getenv(\"PINECONE_API_KEY\")\n",
    "\n",
    "# Initialize database\n",
    "db = VectorDatabase(pinecone_api_key=pinecone_api_key, index_name=\"anu\")\n"
   ]
  },
  {
   "cell_type": "code",
   "execution_count": 3,
   "metadata": {},
   "outputs": [],
   "source": [
    "# db.index.describe_index_stats()"
   ]
  },
  {
   "cell_type": "code",
   "execution_count": 4,
   "metadata": {},
   "outputs": [
    {
     "name": "stdout",
     "output_type": "stream",
     "text": [
      "Successfully inserted record with id: paper_001 into namespace: paper\n"
     ]
    }
   ],
   "source": [
    "summary_text = \"This paper introduces a novel algorithm for time-series forecasting using attention mechanisms.\"\n",
    "db.insert(\n",
    "    id=\"paper_001\",\n",
    "    summary=summary_text,\n",
    "    title=\"Attention-based Forecasting\",\n",
    "    namespace=\"paper\"\n",
    ")\n"
   ]
  },
  {
   "cell_type": "code",
   "execution_count": 5,
   "metadata": {},
   "outputs": [],
   "source": [
    "# db.index.describe_index_stats()"
   ]
  },
  {
   "cell_type": "code",
   "execution_count": 6,
   "metadata": {},
   "outputs": [
    {
     "name": "stdout",
     "output_type": "stream",
     "text": [
      "Successfully inserted record with id: dataset_001 into namespace: dataset\n"
     ]
    }
   ],
   "source": [
    "# Insert another record\n",
    "summary_text2 = \"This dataset contains climate data including rainfall, temperature, and humidity over 30 years.\"\n",
    "db.insert(\n",
    "    id=\"dataset_001\",\n",
    "    summary=summary_text2,\n",
    "    title=\"Climate Dataset\",\n",
    "    namespace=\"dataset\"\n",
    ")"
   ]
  },
  {
   "cell_type": "code",
   "execution_count": 7,
   "metadata": {},
   "outputs": [],
   "source": [
    "# db.index.describe_index_stats()"
   ]
  },
  {
   "cell_type": "code",
   "execution_count": 8,
   "metadata": {},
   "outputs": [
    {
     "name": "stdout",
     "output_type": "stream",
     "text": [
      "Search Results: [\n",
      "  {\n",
      "    \"id\": \"paper_001\",\n",
      "    \"score\": 0.99,\n",
      "    \"text\": \"This paper introduces a novel algorithm for time-series forecasting using attention mechanisms.\"\n",
      "  }\n",
      "]\n"
     ]
    }
   ],
   "source": [
    "query = \"time series forecasting with attention\"\n",
    "results = db.retrieve(k=1,query=query, namespace=\"paper\")\n",
    "\n",
    "print(\"Search Results:\", results)\n"
   ]
  },
  {
   "cell_type": "code",
   "execution_count": 9,
   "metadata": {},
   "outputs": [
    {
     "name": "stdout",
     "output_type": "stream",
     "text": [
      "Deleting index 'anu' entirely...\n",
      "Index deleted successfully.\n"
     ]
    }
   ],
   "source": [
    "db.clear_all()"
   ]
  },
  {
   "cell_type": "code",
   "execution_count": null,
   "metadata": {},
   "outputs": [],
   "source": []
  }
 ],
 "metadata": {
  "kernelspec": {
   "display_name": "venv",
   "language": "python",
   "name": "python3"
  },
  "language_info": {
   "codemirror_mode": {
    "name": "ipython",
    "version": 3
   },
   "file_extension": ".py",
   "mimetype": "text/x-python",
   "name": "python",
   "nbconvert_exporter": "python",
   "pygments_lexer": "ipython3",
   "version": "3.12.3"
  }
 },
 "nbformat": 4,
 "nbformat_minor": 2
}
